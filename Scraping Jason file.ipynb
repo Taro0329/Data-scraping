{
 "cells": [
  {
   "cell_type": "code",
   "execution_count": 13,
   "metadata": {},
   "outputs": [],
   "source": [
    "import pandas as pd\n",
    "import json\n",
    "import urllib.request\n",
    "\n",
    "#このURLを調整してください。末尾は必ず start=0&length=100 にしてください\n",
    "url = 'https://nonfungible.com/api/v1/market/decentraland/history/?start=0&length=100'\n",
    "headers = {\n",
    "    \"User-Agent\": \"Mozilla/5.0 (X11; Ubuntu; Linux x86_64; rv:47.0) Gecko/20100101 Firefox/47.0\",\n",
    "}\n",
    "request_interval = 5  # interval\n",
    "\n",
    "urls = []\n",
    "df = []\n",
    "if __name__ == '__main__':\n",
    "    for i in range(0, 5):#ここのrange(0, x)のxを任意の数字を調整してください。抽出できる列は(x*100-1)列です\n",
    "        url = urllib.parse.urljoin(url, '?start=' + str(i * 100) + '&length=' + str((i + 1) * 100 - 1))\n",
    "        urls.append(str(url))\n",
    "\n",
    "    for url in urls:\n",
    "        headers = {\"User-Agent\": \"Mozilla/5.0 (X11; Ubuntu; Linux x86_64; rv:47.0) Gecko/20100101 Firefox/47.0\",}\n",
    "        request = urllib.request.Request(url=url, headers=headers)\n",
    "        html = urllib.request.urlopen(request).read()\n",
    "        result = json.loads(html)['data']\n",
    "        df.extend(json.loads(html)['data'])\n",
    "\n",
    "    pdf = pd.DataFrame(df)\n",
    "\n",
    "pdf.to_csv(\"output.csv\")"
   ]
  },
  {
   "cell_type": "code",
   "execution_count": 16,
   "metadata": {},
   "outputs": [
    {
     "data": {
      "text/plain": [
       "(499, 24)"
      ]
     },
     "execution_count": 16,
     "metadata": {},
     "output_type": "execute_result"
    }
   ],
   "source": [
    "a=pd.read_csv(\"output.csv\")"
   ]
  },
  {
   "cell_type": "code",
   "execution_count": 28,
   "metadata": {},
   "outputs": [],
   "source": [
    "x=23451/3"
   ]
  },
  {
   "cell_type": "code",
   "execution_count": 29,
   "metadata": {},
   "outputs": [
    {
     "data": {
      "text/plain": [
       "7817.0"
      ]
     },
     "execution_count": 29,
     "metadata": {},
     "output_type": "execute_result"
    }
   ],
   "source": [
    "x"
   ]
  },
  {
   "cell_type": "code",
   "execution_count": null,
   "metadata": {},
   "outputs": [],
   "source": []
  }
 ],
 "metadata": {
  "kernelspec": {
   "display_name": "Python 3",
   "language": "python",
   "name": "python3"
  },
  "language_info": {
   "codemirror_mode": {
    "name": "ipython",
    "version": 3
   },
   "file_extension": ".py",
   "mimetype": "text/x-python",
   "name": "python",
   "nbconvert_exporter": "python",
   "pygments_lexer": "ipython3",
   "version": "3.6.8"
  }
 },
 "nbformat": 4,
 "nbformat_minor": 2
}

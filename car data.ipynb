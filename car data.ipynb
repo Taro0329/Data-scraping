{
 "cells": [
  {
   "cell_type": "code",
   "execution_count": null,
   "metadata": {},
   "outputs": [],
   "source": [
    "import csv\n",
    "import urllib\n",
    "import time\n",
    "\n",
    "from bs4 import BeautifulSoup\n",
    "\n",
    "url = 'https://dubai.dubizzle.com/motors/used-cars/?page=1'  # Get URL",
    "num_pages = 4  # The number of pages",
    "request_interval = 1  # interval ",
    "\n",
    "data = []\n",
    "for i in range(0, num_pages + 1):\n",
    "    url = urllib.parse.urljoin(url, '?page=0'+str(i))\n",
    "    print('getting page... ', url)\n",
    "\n",
    "    html = urllib.request.urlopen(url).read()\n",
    "    soup = BeautifulSoup(html, 'lxml')\n",
    "    
    "    # soup = BeautifulSoup(html, 'html.parser')\n",
    "    a_elems = soup.select('div.item-name > a')\n",
    "\n",
    "    for item_elems in soup.select('div.list-item-wrapper'):\n",
    "        # mileage",
    "        li_elems = item_elems.select('ul.features > li')\n",
    "        year = li_elems[0].text.replace('Year: ', '')  # year\n",
    "        km = li_elems[1].text.replace('Kilometers: ', '')  # mileage\n",
    "        # type\n",
    "        breads = item_elems.select('p.breadcrumbs')[0].text\n",
    "        breads = [s.replace('\\u202a', '').strip() for s in breads.split('>‪')]  # delete \\u202a \n",
    "        maker = breads[1]\n",
    "        car_type = breads[2]\n",
    "        # price\n",
    "        price_elem = item_elems.select('div.price')[0]\n",
    "        price = price_elem.text.replace(',', '').replace('AED', '').strip()  # delete , and AED\n",
    "        # link\n",
    "        a_elem = item_elems.select('h3 a')[0]\n",
    "        car_url = urllib.parse.urljoin(url, a_elem.get('href'))\n",
    "        title = a_elem.text.strip()\n",
    "\n",
    "        data.append({\n",
    "            'year': year, \n",
    "            'km': km, \n",
    "            'maker': maker, \n",
    "            'type': car_type, \n",
    "            'price': price, \n",
    "            'title': title, \n",
    "            'url': car_url\n",
    "        })\n",
    "\n",
    "\n",
    "with open('output.csv', 'w', encoding='utf-8') as f:\n",
    "    # order set\n",
    "    fields = ['title', 'url', 'maker', 'type', 'year', 'km', 'price']\n",
    "\n",
    "    writer = csv.DictWriter(f, fieldnames=fields, quoting=csv.QUOTE_NONNUMERIC)\n",
    "    writer.writeheader()  # input header\n",
    "    writer.writerows(data)  # inout data\n",
    "print('complete')"
   ]
  }
 ],
 "metadata": {
  "kernelspec": {
   "display_name": "Python 3",
   "language": "python",
   "name": "python3"
  },
  "language_info": {
   "codemirror_mode": {
    "name": "ipython",
    "version": 3
   },
   "file_extension": ".py",
   "mimetype": "text/x-python",
   "name": "python",
   "nbconvert_exporter": "python",
   "pygments_lexer": "ipython3",
   "version": "3.6.7"
  }
 },
 "nbformat": 4,
 "nbformat_minor": 2
}
